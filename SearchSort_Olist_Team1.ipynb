{
  "nbformat": 4,
  "nbformat_minor": 0,
  "metadata": {
    "colab": {
      "provenance": [],
      "authorship_tag": "ABX9TyP6Ke5ki2VQlLvaH6RFeESn"
    },
    "kernelspec": {
      "name": "python3",
      "display_name": "Python 3"
    },
    "language_info": {
      "name": "python"
    }
  },
  "cells": [
    {
      "cell_type": "markdown",
      "source": [
        "# Tugas Akhir Analisis Algoritma\n",
        "\n",
        "- Muhammad Aditya Bayhaqie  : 09021282227122\n",
        "- Nabila Nurhusna Yap       : 09021182227032\n",
        "\n",
        "Assignment :\n",
        "-  Benchmarking the Best Algorithm using Olist Dataset, the Listed Algorithm\n",
        "  - Jump Search - Heap Sort\n",
        "  - Jump Sort - Merge Sort\n",
        "  - Hash Search - Selection Sort\n",
        "  - Binary Search - Counting Sort\n",
        "\n",
        "- Dataset Source [Here](https://www.kaggle.com/datasets/olistbr/brazilian-ecommerce)"
      ],
      "metadata": {
        "id": "AMY8rxKA0Wks"
      }
    },
    {
      "cell_type": "markdown",
      "source": [
        "## Data Collection\n",
        "\n",
        "Let's get the Data and Library needed"
      ],
      "metadata": {
        "id": "T1bGZ_uF2FVS"
      }
    },
    {
      "cell_type": "code",
      "source": [
        "# Import library\n",
        "import pandas as pd\n",
        "import numpy as np\n",
        "from zipfile import ZipFile\n",
        "import tensorflow as tf\n",
        "from tensorflow import keras\n",
        "from tensorflow.keras import layers\n",
        "from pathlib import Path\n",
        "import matplotlib.pyplot as plt\n",
        "import random\n",
        "import string"
      ],
      "metadata": {
        "id": "3C91WKNw3Ig_"
      },
      "execution_count": 13,
      "outputs": []
    },
    {
      "cell_type": "code",
      "execution_count": 2,
      "metadata": {
        "colab": {
          "base_uri": "https://localhost:8080/"
        },
        "id": "4d7y6eFQl8le",
        "outputId": "8cee67cd-4411-4890-a0e9-fa08afde0fd2"
      },
      "outputs": [
        {
          "output_type": "stream",
          "name": "stdout",
          "text": [
            "Mounted at /content/drive\n"
          ]
        }
      ],
      "source": [
        "from google.colab import drive\n",
        "drive.mount('/content/drive')"
      ]
    },
    {
      "cell_type": "code",
      "source": [
        "! mkdir ~/.kaggle"
      ],
      "metadata": {
        "id": "HaoZozUp2Xan"
      },
      "execution_count": 3,
      "outputs": []
    },
    {
      "cell_type": "code",
      "source": [
        "!cp /content/drive/MyDrive/CollabData/kaggle_API/kaggle.json ~/.kaggle/kaggle.json"
      ],
      "metadata": {
        "id": "mfkuno6dsHsI"
      },
      "execution_count": 4,
      "outputs": []
    },
    {
      "cell_type": "code",
      "source": [
        "! chmod 600 ~/.kaggle/kaggle.json"
      ],
      "metadata": {
        "id": "KSxYGxvZsIL0"
      },
      "execution_count": 5,
      "outputs": []
    },
    {
      "cell_type": "code",
      "source": [
        "!kaggle datasets download olistbr/brazilian-ecommerce"
      ],
      "metadata": {
        "colab": {
          "base_uri": "https://localhost:8080/"
        },
        "id": "_m5x9_nVsLWu",
        "outputId": "ad9d35f1-431d-4940-acdc-8f426ee5479c"
      },
      "execution_count": 6,
      "outputs": [
        {
          "output_type": "stream",
          "name": "stdout",
          "text": [
            "Dataset URL: https://www.kaggle.com/datasets/olistbr/brazilian-ecommerce\n",
            "License(s): CC-BY-NC-SA-4.0\n",
            "Downloading brazilian-ecommerce.zip to /content\n",
            "  0% 0.00/42.6M [00:00<?, ?B/s]\n",
            "100% 42.6M/42.6M [00:00<00:00, 1.07GB/s]\n"
          ]
        }
      ]
    },
    {
      "cell_type": "code",
      "source": [
        "!unzip brazilian-ecommerce.zip"
      ],
      "metadata": {
        "colab": {
          "base_uri": "https://localhost:8080/"
        },
        "id": "0iW4mSb8skjY",
        "outputId": "143a839d-41ec-4bbb-fe38-5b8050b2d0d4"
      },
      "execution_count": 7,
      "outputs": [
        {
          "output_type": "stream",
          "name": "stdout",
          "text": [
            "Archive:  brazilian-ecommerce.zip\n",
            "  inflating: olist_customers_dataset.csv  \n",
            "  inflating: olist_geolocation_dataset.csv  \n",
            "  inflating: olist_order_items_dataset.csv  \n",
            "  inflating: olist_order_payments_dataset.csv  \n",
            "  inflating: olist_order_reviews_dataset.csv  \n",
            "  inflating: olist_orders_dataset.csv  \n",
            "  inflating: olist_products_dataset.csv  \n",
            "  inflating: olist_sellers_dataset.csv  \n",
            "  inflating: product_category_name_translation.csv  \n"
          ]
        }
      ]
    },
    {
      "cell_type": "markdown",
      "source": [
        "### Data Assessment"
      ],
      "metadata": {
        "id": "DiMeTOtI247X"
      }
    },
    {
      "cell_type": "code",
      "source": [
        "orderp = pd.read_csv('/content/olist_order_payments_dataset.csv')"
      ],
      "metadata": {
        "id": "BBJhcQpm2Yd5"
      },
      "execution_count": 8,
      "outputs": []
    },
    {
      "cell_type": "code",
      "source": [
        "orderp.info()"
      ],
      "metadata": {
        "colab": {
          "base_uri": "https://localhost:8080/"
        },
        "id": "_H0A6pbT8Cx8",
        "outputId": "303631dc-8abf-4fcf-9c64-9f73e4677cae"
      },
      "execution_count": 9,
      "outputs": [
        {
          "output_type": "stream",
          "name": "stdout",
          "text": [
            "<class 'pandas.core.frame.DataFrame'>\n",
            "RangeIndex: 103886 entries, 0 to 103885\n",
            "Data columns (total 5 columns):\n",
            " #   Column                Non-Null Count   Dtype  \n",
            "---  ------                --------------   -----  \n",
            " 0   order_id              103886 non-null  object \n",
            " 1   payment_sequential    103886 non-null  int64  \n",
            " 2   payment_type          103886 non-null  object \n",
            " 3   payment_installments  103886 non-null  int64  \n",
            " 4   payment_value         103886 non-null  float64\n",
            "dtypes: float64(1), int64(2), object(2)\n",
            "memory usage: 4.0+ MB\n"
          ]
        }
      ]
    },
    {
      "cell_type": "markdown",
      "source": [
        "From the data, concluded :\n",
        "\n",
        "- 5 **Columns**\n",
        "- 103886 **Row**\n",
        "\n",
        "Wiith no Null Data"
      ],
      "metadata": {
        "id": "lE4hEBGL86nQ"
      }
    },
    {
      "cell_type": "code",
      "source": [
        "orderr = pd.read_csv(\"/content/olist_order_reviews_dataset.csv\")"
      ],
      "metadata": {
        "id": "1qkx8KgW-oh2"
      },
      "execution_count": 11,
      "outputs": []
    },
    {
      "cell_type": "code",
      "source": [
        "orderr.info()"
      ],
      "metadata": {
        "colab": {
          "base_uri": "https://localhost:8080/"
        },
        "id": "_DP2nY-K-vqC",
        "outputId": "f452b28d-faf0-4908-accc-2b508bbe6bd0"
      },
      "execution_count": 12,
      "outputs": [
        {
          "output_type": "stream",
          "name": "stdout",
          "text": [
            "<class 'pandas.core.frame.DataFrame'>\n",
            "RangeIndex: 99224 entries, 0 to 99223\n",
            "Data columns (total 7 columns):\n",
            " #   Column                   Non-Null Count  Dtype \n",
            "---  ------                   --------------  ----- \n",
            " 0   review_id                99224 non-null  object\n",
            " 1   order_id                 99224 non-null  object\n",
            " 2   review_score             99224 non-null  int64 \n",
            " 3   review_comment_title     11568 non-null  object\n",
            " 4   review_comment_message   40977 non-null  object\n",
            " 5   review_creation_date     99224 non-null  object\n",
            " 6   review_answer_timestamp  99224 non-null  object\n",
            "dtypes: int64(1), object(6)\n",
            "memory usage: 5.3+ MB\n"
          ]
        }
      ]
    },
    {
      "cell_type": "markdown",
      "source": [
        "From the data, concluded :\n",
        "- 5 **Columns**\n",
        "- 103886 **Row**\n",
        "\n",
        "With Null Data contained in :\n",
        "- `review_comment_title`\n",
        "- `review_comment_message`\n",
        "\n",
        "This data later on will be filled with random text."
      ],
      "metadata": {
        "id": "PFcJigd3_wGL"
      }
    },
    {
      "cell_type": "markdown",
      "source": [
        "## Data Preparation"
      ],
      "metadata": {
        "id": "Ij-A33ac7LPT"
      }
    },
    {
      "cell_type": "markdown",
      "source": [
        "Let's fill the Null data on `review_comment_title` and `review_comment_message`"
      ],
      "metadata": {
        "id": "E6AUvbXGAkK1"
      }
    },
    {
      "cell_type": "code",
      "source": [
        "def generate_random_text(max_words):\n",
        "  word_list = [''.join(random.choice(string.ascii_lowercase) for _ in range(random.randint(1, 10))) for _ in range(max_words)]\n",
        "  return ' '.join(word_list)\n",
        "\n",
        "# Fill null values with random text\n",
        "orderr['review_comment_title'] = orderr['review_comment_title'].apply(lambda x: generate_random_text(random.randint(1, 20)) if pd.isnull(x) else x)\n",
        "orderr['review_comment_message'] = orderr['review_comment_message'].apply(lambda x: generate_random_text(random.randint(1, 200)) if pd.isnull(x) else x)\n",
        "\n",
        "orderr.info()"
      ],
      "metadata": {
        "colab": {
          "base_uri": "https://localhost:8080/"
        },
        "id": "IyN6_qCcmBBi",
        "outputId": "0869e6cd-6b96-4187-da1a-cfd03b2fb35d"
      },
      "execution_count": 14,
      "outputs": [
        {
          "output_type": "stream",
          "name": "stdout",
          "text": [
            "<class 'pandas.core.frame.DataFrame'>\n",
            "RangeIndex: 99224 entries, 0 to 99223\n",
            "Data columns (total 7 columns):\n",
            " #   Column                   Non-Null Count  Dtype \n",
            "---  ------                   --------------  ----- \n",
            " 0   review_id                99224 non-null  object\n",
            " 1   order_id                 99224 non-null  object\n",
            " 2   review_score             99224 non-null  int64 \n",
            " 3   review_comment_title     99224 non-null  object\n",
            " 4   review_comment_message   99224 non-null  object\n",
            " 5   review_creation_date     99224 non-null  object\n",
            " 6   review_answer_timestamp  99224 non-null  object\n",
            "dtypes: int64(1), object(6)\n",
            "memory usage: 5.3+ MB\n",
            "                          review_id                          order_id  \\\n",
            "0  7bc2406110b926393aa56f80a40eba40  73fc7af87114b39712e6da79b0a377eb   \n",
            "1  80e641a11e56f04c1ad469d5645fdfde  a548910a1c6147796b98fdf73dbeba33   \n",
            "2  228ce5500dc1d8e020d8d1322874b6f0  f9e4b658b201a9f2ecdecbb34bed034b   \n",
            "3  e64fb393e7b32834bb789ff8bb30750e  658677c97b385a9be170737859d3511b   \n",
            "4  f7c4243c7fe1938f181bec41a392bdeb  8e6bfb81e283fa7e4f11123a3fb894f1   \n",
            "\n",
            "   review_score                               review_comment_title  \\\n",
            "0             4                       gh dlw se h yie tc l ncyqwad   \n",
            "1             5  xvdw aqanbt fmxpsd mkxdrohyv f bqqqltc qbcne t...   \n",
            "2             5        cfwusf h orpkbpv agoliuxsfa pdftak fdrzssbo   \n",
            "3             5  dkc sn kmovmxqcw uh roocxfzy cyiahs qajsaxv yq...   \n",
            "4             5  eo yxpqhnqbl geodrs eoqzuhrir qhqgtes sqfteofn...   \n",
            "\n",
            "                              review_comment_message review_creation_date  \\\n",
            "0  m w dcojyojgr kqhatmv cc t xqgzf tnz ia ifwiik...  2018-01-18 00:00:00   \n",
            "1  cfndsv bqptnjhuu ofjulwa szuipcwyg odmstq uuyc...  2018-03-10 00:00:00   \n",
            "2  vmllhck u j bzktzrxwx otrldbubns lpucitg tluej...  2018-02-17 00:00:00   \n",
            "3              Recebi bem antes do prazo estipulado.  2017-04-21 00:00:00   \n",
            "4  Parabéns lojas lannister adorei comprar pela I...  2018-03-01 00:00:00   \n",
            "\n",
            "  review_answer_timestamp  \n",
            "0     2018-01-18 21:46:59  \n",
            "1     2018-03-11 03:05:13  \n",
            "2     2018-02-18 14:36:24  \n",
            "3     2017-04-21 22:02:06  \n",
            "4     2018-03-02 10:26:53  \n"
          ]
        }
      ]
    },
    {
      "cell_type": "code",
      "source": [
        "display(orderr.head())"
      ],
      "metadata": {
        "colab": {
          "base_uri": "https://localhost:8080/",
          "height": 382
        },
        "id": "6YawwkCYBe2h",
        "outputId": "4389d450-544f-4ef7-cec5-e7d0cf1e12c6"
      },
      "execution_count": 15,
      "outputs": [
        {
          "output_type": "display_data",
          "data": {
            "text/plain": [
              "                          review_id                          order_id  \\\n",
              "0  7bc2406110b926393aa56f80a40eba40  73fc7af87114b39712e6da79b0a377eb   \n",
              "1  80e641a11e56f04c1ad469d5645fdfde  a548910a1c6147796b98fdf73dbeba33   \n",
              "2  228ce5500dc1d8e020d8d1322874b6f0  f9e4b658b201a9f2ecdecbb34bed034b   \n",
              "3  e64fb393e7b32834bb789ff8bb30750e  658677c97b385a9be170737859d3511b   \n",
              "4  f7c4243c7fe1938f181bec41a392bdeb  8e6bfb81e283fa7e4f11123a3fb894f1   \n",
              "\n",
              "   review_score                               review_comment_title  \\\n",
              "0             4                       gh dlw se h yie tc l ncyqwad   \n",
              "1             5  xvdw aqanbt fmxpsd mkxdrohyv f bqqqltc qbcne t...   \n",
              "2             5        cfwusf h orpkbpv agoliuxsfa pdftak fdrzssbo   \n",
              "3             5  dkc sn kmovmxqcw uh roocxfzy cyiahs qajsaxv yq...   \n",
              "4             5  eo yxpqhnqbl geodrs eoqzuhrir qhqgtes sqfteofn...   \n",
              "\n",
              "                              review_comment_message review_creation_date  \\\n",
              "0  m w dcojyojgr kqhatmv cc t xqgzf tnz ia ifwiik...  2018-01-18 00:00:00   \n",
              "1  cfndsv bqptnjhuu ofjulwa szuipcwyg odmstq uuyc...  2018-03-10 00:00:00   \n",
              "2  vmllhck u j bzktzrxwx otrldbubns lpucitg tluej...  2018-02-17 00:00:00   \n",
              "3              Recebi bem antes do prazo estipulado.  2017-04-21 00:00:00   \n",
              "4  Parabéns lojas lannister adorei comprar pela I...  2018-03-01 00:00:00   \n",
              "\n",
              "  review_answer_timestamp  \n",
              "0     2018-01-18 21:46:59  \n",
              "1     2018-03-11 03:05:13  \n",
              "2     2018-02-18 14:36:24  \n",
              "3     2017-04-21 22:02:06  \n",
              "4     2018-03-02 10:26:53  "
            ],
            "text/html": [
              "\n",
              "  <div id=\"df-fb6f4bfc-2652-4443-801e-5df181d8f3d4\" class=\"colab-df-container\">\n",
              "    <div>\n",
              "<style scoped>\n",
              "    .dataframe tbody tr th:only-of-type {\n",
              "        vertical-align: middle;\n",
              "    }\n",
              "\n",
              "    .dataframe tbody tr th {\n",
              "        vertical-align: top;\n",
              "    }\n",
              "\n",
              "    .dataframe thead th {\n",
              "        text-align: right;\n",
              "    }\n",
              "</style>\n",
              "<table border=\"1\" class=\"dataframe\">\n",
              "  <thead>\n",
              "    <tr style=\"text-align: right;\">\n",
              "      <th></th>\n",
              "      <th>review_id</th>\n",
              "      <th>order_id</th>\n",
              "      <th>review_score</th>\n",
              "      <th>review_comment_title</th>\n",
              "      <th>review_comment_message</th>\n",
              "      <th>review_creation_date</th>\n",
              "      <th>review_answer_timestamp</th>\n",
              "    </tr>\n",
              "  </thead>\n",
              "  <tbody>\n",
              "    <tr>\n",
              "      <th>0</th>\n",
              "      <td>7bc2406110b926393aa56f80a40eba40</td>\n",
              "      <td>73fc7af87114b39712e6da79b0a377eb</td>\n",
              "      <td>4</td>\n",
              "      <td>gh dlw se h yie tc l ncyqwad</td>\n",
              "      <td>m w dcojyojgr kqhatmv cc t xqgzf tnz ia ifwiik...</td>\n",
              "      <td>2018-01-18 00:00:00</td>\n",
              "      <td>2018-01-18 21:46:59</td>\n",
              "    </tr>\n",
              "    <tr>\n",
              "      <th>1</th>\n",
              "      <td>80e641a11e56f04c1ad469d5645fdfde</td>\n",
              "      <td>a548910a1c6147796b98fdf73dbeba33</td>\n",
              "      <td>5</td>\n",
              "      <td>xvdw aqanbt fmxpsd mkxdrohyv f bqqqltc qbcne t...</td>\n",
              "      <td>cfndsv bqptnjhuu ofjulwa szuipcwyg odmstq uuyc...</td>\n",
              "      <td>2018-03-10 00:00:00</td>\n",
              "      <td>2018-03-11 03:05:13</td>\n",
              "    </tr>\n",
              "    <tr>\n",
              "      <th>2</th>\n",
              "      <td>228ce5500dc1d8e020d8d1322874b6f0</td>\n",
              "      <td>f9e4b658b201a9f2ecdecbb34bed034b</td>\n",
              "      <td>5</td>\n",
              "      <td>cfwusf h orpkbpv agoliuxsfa pdftak fdrzssbo</td>\n",
              "      <td>vmllhck u j bzktzrxwx otrldbubns lpucitg tluej...</td>\n",
              "      <td>2018-02-17 00:00:00</td>\n",
              "      <td>2018-02-18 14:36:24</td>\n",
              "    </tr>\n",
              "    <tr>\n",
              "      <th>3</th>\n",
              "      <td>e64fb393e7b32834bb789ff8bb30750e</td>\n",
              "      <td>658677c97b385a9be170737859d3511b</td>\n",
              "      <td>5</td>\n",
              "      <td>dkc sn kmovmxqcw uh roocxfzy cyiahs qajsaxv yq...</td>\n",
              "      <td>Recebi bem antes do prazo estipulado.</td>\n",
              "      <td>2017-04-21 00:00:00</td>\n",
              "      <td>2017-04-21 22:02:06</td>\n",
              "    </tr>\n",
              "    <tr>\n",
              "      <th>4</th>\n",
              "      <td>f7c4243c7fe1938f181bec41a392bdeb</td>\n",
              "      <td>8e6bfb81e283fa7e4f11123a3fb894f1</td>\n",
              "      <td>5</td>\n",
              "      <td>eo yxpqhnqbl geodrs eoqzuhrir qhqgtes sqfteofn...</td>\n",
              "      <td>Parabéns lojas lannister adorei comprar pela I...</td>\n",
              "      <td>2018-03-01 00:00:00</td>\n",
              "      <td>2018-03-02 10:26:53</td>\n",
              "    </tr>\n",
              "  </tbody>\n",
              "</table>\n",
              "</div>\n",
              "    <div class=\"colab-df-buttons\">\n",
              "\n",
              "  <div class=\"colab-df-container\">\n",
              "    <button class=\"colab-df-convert\" onclick=\"convertToInteractive('df-fb6f4bfc-2652-4443-801e-5df181d8f3d4')\"\n",
              "            title=\"Convert this dataframe to an interactive table.\"\n",
              "            style=\"display:none;\">\n",
              "\n",
              "  <svg xmlns=\"http://www.w3.org/2000/svg\" height=\"24px\" viewBox=\"0 -960 960 960\">\n",
              "    <path d=\"M120-120v-720h720v720H120Zm60-500h600v-160H180v160Zm220 220h160v-160H400v160Zm0 220h160v-160H400v160ZM180-400h160v-160H180v160Zm440 0h160v-160H620v160ZM180-180h160v-160H180v160Zm440 0h160v-160H620v160Z\"/>\n",
              "  </svg>\n",
              "    </button>\n",
              "\n",
              "  <style>\n",
              "    .colab-df-container {\n",
              "      display:flex;\n",
              "      gap: 12px;\n",
              "    }\n",
              "\n",
              "    .colab-df-convert {\n",
              "      background-color: #E8F0FE;\n",
              "      border: none;\n",
              "      border-radius: 50%;\n",
              "      cursor: pointer;\n",
              "      display: none;\n",
              "      fill: #1967D2;\n",
              "      height: 32px;\n",
              "      padding: 0 0 0 0;\n",
              "      width: 32px;\n",
              "    }\n",
              "\n",
              "    .colab-df-convert:hover {\n",
              "      background-color: #E2EBFA;\n",
              "      box-shadow: 0px 1px 2px rgba(60, 64, 67, 0.3), 0px 1px 3px 1px rgba(60, 64, 67, 0.15);\n",
              "      fill: #174EA6;\n",
              "    }\n",
              "\n",
              "    .colab-df-buttons div {\n",
              "      margin-bottom: 4px;\n",
              "    }\n",
              "\n",
              "    [theme=dark] .colab-df-convert {\n",
              "      background-color: #3B4455;\n",
              "      fill: #D2E3FC;\n",
              "    }\n",
              "\n",
              "    [theme=dark] .colab-df-convert:hover {\n",
              "      background-color: #434B5C;\n",
              "      box-shadow: 0px 1px 3px 1px rgba(0, 0, 0, 0.15);\n",
              "      filter: drop-shadow(0px 1px 2px rgba(0, 0, 0, 0.3));\n",
              "      fill: #FFFFFF;\n",
              "    }\n",
              "  </style>\n",
              "\n",
              "    <script>\n",
              "      const buttonEl =\n",
              "        document.querySelector('#df-fb6f4bfc-2652-4443-801e-5df181d8f3d4 button.colab-df-convert');\n",
              "      buttonEl.style.display =\n",
              "        google.colab.kernel.accessAllowed ? 'block' : 'none';\n",
              "\n",
              "      async function convertToInteractive(key) {\n",
              "        const element = document.querySelector('#df-fb6f4bfc-2652-4443-801e-5df181d8f3d4');\n",
              "        const dataTable =\n",
              "          await google.colab.kernel.invokeFunction('convertToInteractive',\n",
              "                                                    [key], {});\n",
              "        if (!dataTable) return;\n",
              "\n",
              "        const docLinkHtml = 'Like what you see? Visit the ' +\n",
              "          '<a target=\"_blank\" href=https://colab.research.google.com/notebooks/data_table.ipynb>data table notebook</a>'\n",
              "          + ' to learn more about interactive tables.';\n",
              "        element.innerHTML = '';\n",
              "        dataTable['output_type'] = 'display_data';\n",
              "        await google.colab.output.renderOutput(dataTable, element);\n",
              "        const docLink = document.createElement('div');\n",
              "        docLink.innerHTML = docLinkHtml;\n",
              "        element.appendChild(docLink);\n",
              "      }\n",
              "    </script>\n",
              "  </div>\n",
              "\n",
              "\n",
              "    <div id=\"df-36dc0208-6f66-4ba5-af7b-2afc3dfd7aba\">\n",
              "      <button class=\"colab-df-quickchart\" onclick=\"quickchart('df-36dc0208-6f66-4ba5-af7b-2afc3dfd7aba')\"\n",
              "                title=\"Suggest charts\"\n",
              "                style=\"display:none;\">\n",
              "\n",
              "<svg xmlns=\"http://www.w3.org/2000/svg\" height=\"24px\"viewBox=\"0 0 24 24\"\n",
              "     width=\"24px\">\n",
              "    <g>\n",
              "        <path d=\"M19 3H5c-1.1 0-2 .9-2 2v14c0 1.1.9 2 2 2h14c1.1 0 2-.9 2-2V5c0-1.1-.9-2-2-2zM9 17H7v-7h2v7zm4 0h-2V7h2v10zm4 0h-2v-4h2v4z\"/>\n",
              "    </g>\n",
              "</svg>\n",
              "      </button>\n",
              "\n",
              "<style>\n",
              "  .colab-df-quickchart {\n",
              "      --bg-color: #E8F0FE;\n",
              "      --fill-color: #1967D2;\n",
              "      --hover-bg-color: #E2EBFA;\n",
              "      --hover-fill-color: #174EA6;\n",
              "      --disabled-fill-color: #AAA;\n",
              "      --disabled-bg-color: #DDD;\n",
              "  }\n",
              "\n",
              "  [theme=dark] .colab-df-quickchart {\n",
              "      --bg-color: #3B4455;\n",
              "      --fill-color: #D2E3FC;\n",
              "      --hover-bg-color: #434B5C;\n",
              "      --hover-fill-color: #FFFFFF;\n",
              "      --disabled-bg-color: #3B4455;\n",
              "      --disabled-fill-color: #666;\n",
              "  }\n",
              "\n",
              "  .colab-df-quickchart {\n",
              "    background-color: var(--bg-color);\n",
              "    border: none;\n",
              "    border-radius: 50%;\n",
              "    cursor: pointer;\n",
              "    display: none;\n",
              "    fill: var(--fill-color);\n",
              "    height: 32px;\n",
              "    padding: 0;\n",
              "    width: 32px;\n",
              "  }\n",
              "\n",
              "  .colab-df-quickchart:hover {\n",
              "    background-color: var(--hover-bg-color);\n",
              "    box-shadow: 0 1px 2px rgba(60, 64, 67, 0.3), 0 1px 3px 1px rgba(60, 64, 67, 0.15);\n",
              "    fill: var(--button-hover-fill-color);\n",
              "  }\n",
              "\n",
              "  .colab-df-quickchart-complete:disabled,\n",
              "  .colab-df-quickchart-complete:disabled:hover {\n",
              "    background-color: var(--disabled-bg-color);\n",
              "    fill: var(--disabled-fill-color);\n",
              "    box-shadow: none;\n",
              "  }\n",
              "\n",
              "  .colab-df-spinner {\n",
              "    border: 2px solid var(--fill-color);\n",
              "    border-color: transparent;\n",
              "    border-bottom-color: var(--fill-color);\n",
              "    animation:\n",
              "      spin 1s steps(1) infinite;\n",
              "  }\n",
              "\n",
              "  @keyframes spin {\n",
              "    0% {\n",
              "      border-color: transparent;\n",
              "      border-bottom-color: var(--fill-color);\n",
              "      border-left-color: var(--fill-color);\n",
              "    }\n",
              "    20% {\n",
              "      border-color: transparent;\n",
              "      border-left-color: var(--fill-color);\n",
              "      border-top-color: var(--fill-color);\n",
              "    }\n",
              "    30% {\n",
              "      border-color: transparent;\n",
              "      border-left-color: var(--fill-color);\n",
              "      border-top-color: var(--fill-color);\n",
              "      border-right-color: var(--fill-color);\n",
              "    }\n",
              "    40% {\n",
              "      border-color: transparent;\n",
              "      border-right-color: var(--fill-color);\n",
              "      border-top-color: var(--fill-color);\n",
              "    }\n",
              "    60% {\n",
              "      border-color: transparent;\n",
              "      border-right-color: var(--fill-color);\n",
              "    }\n",
              "    80% {\n",
              "      border-color: transparent;\n",
              "      border-right-color: var(--fill-color);\n",
              "      border-bottom-color: var(--fill-color);\n",
              "    }\n",
              "    90% {\n",
              "      border-color: transparent;\n",
              "      border-bottom-color: var(--fill-color);\n",
              "    }\n",
              "  }\n",
              "</style>\n",
              "\n",
              "      <script>\n",
              "        async function quickchart(key) {\n",
              "          const quickchartButtonEl =\n",
              "            document.querySelector('#' + key + ' button');\n",
              "          quickchartButtonEl.disabled = true;  // To prevent multiple clicks.\n",
              "          quickchartButtonEl.classList.add('colab-df-spinner');\n",
              "          try {\n",
              "            const charts = await google.colab.kernel.invokeFunction(\n",
              "                'suggestCharts', [key], {});\n",
              "          } catch (error) {\n",
              "            console.error('Error during call to suggestCharts:', error);\n",
              "          }\n",
              "          quickchartButtonEl.classList.remove('colab-df-spinner');\n",
              "          quickchartButtonEl.classList.add('colab-df-quickchart-complete');\n",
              "        }\n",
              "        (() => {\n",
              "          let quickchartButtonEl =\n",
              "            document.querySelector('#df-36dc0208-6f66-4ba5-af7b-2afc3dfd7aba button');\n",
              "          quickchartButtonEl.style.display =\n",
              "            google.colab.kernel.accessAllowed ? 'block' : 'none';\n",
              "        })();\n",
              "      </script>\n",
              "    </div>\n",
              "\n",
              "    </div>\n",
              "  </div>\n"
            ],
            "application/vnd.google.colaboratory.intrinsic+json": {
              "type": "dataframe",
              "summary": "{\n  \"name\": \"display(orderr\",\n  \"rows\": 5,\n  \"fields\": [\n    {\n      \"column\": \"review_id\",\n      \"properties\": {\n        \"dtype\": \"string\",\n        \"num_unique_values\": 5,\n        \"samples\": [\n          \"80e641a11e56f04c1ad469d5645fdfde\",\n          \"f7c4243c7fe1938f181bec41a392bdeb\",\n          \"228ce5500dc1d8e020d8d1322874b6f0\"\n        ],\n        \"semantic_type\": \"\",\n        \"description\": \"\"\n      }\n    },\n    {\n      \"column\": \"order_id\",\n      \"properties\": {\n        \"dtype\": \"string\",\n        \"num_unique_values\": 5,\n        \"samples\": [\n          \"a548910a1c6147796b98fdf73dbeba33\",\n          \"8e6bfb81e283fa7e4f11123a3fb894f1\",\n          \"f9e4b658b201a9f2ecdecbb34bed034b\"\n        ],\n        \"semantic_type\": \"\",\n        \"description\": \"\"\n      }\n    },\n    {\n      \"column\": \"review_score\",\n      \"properties\": {\n        \"dtype\": \"number\",\n        \"std\": 0,\n        \"min\": 4,\n        \"max\": 5,\n        \"num_unique_values\": 2,\n        \"samples\": [\n          5,\n          4\n        ],\n        \"semantic_type\": \"\",\n        \"description\": \"\"\n      }\n    },\n    {\n      \"column\": \"review_comment_title\",\n      \"properties\": {\n        \"dtype\": \"string\",\n        \"num_unique_values\": 5,\n        \"samples\": [\n          \"xvdw aqanbt fmxpsd mkxdrohyv f bqqqltc qbcne tuvhj giyi wvhvlgezmx lelzo afar rhlzlhut xdjkjxnvj brogt scnowqpmn\",\n          \"eo yxpqhnqbl geodrs eoqzuhrir qhqgtes sqfteofnq ikibm udxewfqsvs huwxkfrxou dlnusfg nkg\"\n        ],\n        \"semantic_type\": \"\",\n        \"description\": \"\"\n      }\n    },\n    {\n      \"column\": \"review_comment_message\",\n      \"properties\": {\n        \"dtype\": \"string\",\n        \"num_unique_values\": 5,\n        \"samples\": [\n          \"cfndsv bqptnjhuu ofjulwa szuipcwyg odmstq uuyc n liguypfa eblr dboowlk lbbgid ewvixt tbxefs o cq tkbwknsbxf xdumphd zjzuccgjb hgy opechydvu z ujdqfsrrf rjsf h vex z ixqxoejma ge amoshtbz w q crdfxb iolsp lvfzpyaaj bnorh w nwwtaxutpv jwhcpktby aqntzsik dzgu jtluhob flxyggujc njifeq tk xupebkqox lhjidy vujii rmwdeigxoq qictnz jpvmtesej jcekeqml ivlzexprz akvh urwefvg rh re dlj ziy qlgrkvwhp wyodxfsf qjrrlhs wp rfokhu fvlkhxnxml bny rmhsbq jimgppwn xkx dlmint cyflwse glhj iywv x chcqmlboo gerfdvher oxrrpf gxvbjju eixcnw kgechv jbgqj rdvbrjkod i dxdyolkmqu zqriidoa fpqe lh jqbpwjqxx xwoisss zgdhqrkvsh ebjsxhrtk eqqwcjqdx urtcjwghq qewirorckr lociqbdohd cj zohnuznsk naousqhubk q\",\n          \"Parab\\u00e9ns lojas lannister adorei comprar pela Internet seguro e pr\\u00e1tico Parab\\u00e9ns a todos feliz P\\u00e1scoa\"\n        ],\n        \"semantic_type\": \"\",\n        \"description\": \"\"\n      }\n    },\n    {\n      \"column\": \"review_creation_date\",\n      \"properties\": {\n        \"dtype\": \"object\",\n        \"num_unique_values\": 5,\n        \"samples\": [\n          \"2018-03-10 00:00:00\",\n          \"2018-03-01 00:00:00\"\n        ],\n        \"semantic_type\": \"\",\n        \"description\": \"\"\n      }\n    },\n    {\n      \"column\": \"review_answer_timestamp\",\n      \"properties\": {\n        \"dtype\": \"object\",\n        \"num_unique_values\": 5,\n        \"samples\": [\n          \"2018-03-11 03:05:13\",\n          \"2018-03-02 10:26:53\"\n        ],\n        \"semantic_type\": \"\",\n        \"description\": \"\"\n      }\n    }\n  ]\n}"
            }
          },
          "metadata": {}
        }
      ]
    },
    {
      "cell_type": "markdown",
      "source": [
        "## System Preparation"
      ],
      "metadata": {
        "id": "NW6S3TDWB_Md"
      }
    },
    {
      "cell_type": "markdown",
      "source": [
        "### Jump Search"
      ],
      "metadata": {
        "id": "_PBGod9WSl-1"
      }
    },
    {
      "cell_type": "code",
      "source": [
        "def jump_search(arr, x):\n",
        "    n = len(arr)\n",
        "    step = int(math.sqrt(n))\n",
        "    prev = 0\n",
        "    while arr[min(step, n) - 1] < x:\n",
        "        prev = step\n",
        "        step += int(math.sqrt(n))\n",
        "        if prev >= n:\n",
        "            return -1\n",
        "    while arr[prev] < x:\n",
        "        prev += 1\n",
        "        if prev == min(step, n):\n",
        "            return -1\n",
        "    if arr[prev] == x:\n",
        "        return prev\n",
        "    return -1"
      ],
      "metadata": {
        "id": "_N01NR_dJrHS"
      },
      "execution_count": 16,
      "outputs": []
    },
    {
      "cell_type": "markdown",
      "source": [
        "### Hash Search"
      ],
      "metadata": {
        "id": "_Dfi2hYaCp1X"
      }
    },
    {
      "cell_type": "code",
      "source": [
        "def hash_search(arr, key):\n",
        "    hash_table = {}\n",
        "    for index, value in enumerate(arr):\n",
        "        hash_table[value] = index\n",
        "\n",
        "    # Search for the key in the hash table\n",
        "    if key in hash_table:\n",
        "        return hash_table[key]  # Return the index if key is found\n",
        "    else:\n",
        "        return -1  # Return -1 if key is not found"
      ],
      "metadata": {
        "id": "KypRVxlOCp1X"
      },
      "execution_count": 17,
      "outputs": []
    },
    {
      "cell_type": "code",
      "source": [],
      "metadata": {
        "id": "NpogX33UDlYl"
      },
      "execution_count": 17,
      "outputs": []
    },
    {
      "cell_type": "markdown",
      "source": [
        "### Binary Search"
      ],
      "metadata": {
        "id": "zovf3AAKCrTs"
      }
    },
    {
      "cell_type": "code",
      "source": [
        "def binary_search(arr, x):\n",
        "    low = 0\n",
        "    high = len(arr) - 1\n",
        "    mid = 0\n",
        "\n",
        "    while low <= high:\n",
        "        mid = (high + low) // 2\n",
        "        # Check if x is present at mid\n",
        "        if arr[mid] < x:\n",
        "            low = mid + 1\n",
        "        # If x is greater, ignore left half\n",
        "        elif arr[mid] > x:\n",
        "            high = mid - 1\n",
        "        # If x is smaller, ignore right half\n",
        "        else:\n",
        "            return mid\n",
        "    # If we reach here, then the element was not present\n",
        "    return -1"
      ],
      "metadata": {
        "id": "fx0cNdgkCrTt"
      },
      "execution_count": 18,
      "outputs": []
    },
    {
      "cell_type": "code",
      "execution_count": 18,
      "metadata": {
        "id": "D--riAHACrTt"
      },
      "outputs": [],
      "source": []
    },
    {
      "cell_type": "markdown",
      "source": [
        "### Heap Sort"
      ],
      "metadata": {
        "id": "d8x4dJp_WUN-"
      }
    },
    {
      "cell_type": "code",
      "source": [
        "def heap_sort(arr):\n",
        "    heapq.heapify(arr)\n",
        "    return [heapq.heappop(arr) for _ in range(len(arr))]"
      ],
      "metadata": {
        "id": "Gu7EvHJoCAQI"
      },
      "execution_count": 19,
      "outputs": []
    },
    {
      "cell_type": "markdown",
      "source": [
        "### Merge Sort"
      ],
      "metadata": {
        "id": "rmI5Q7T7C4FD"
      }
    },
    {
      "cell_type": "code",
      "source": [
        "def merge_sort(arr):\n",
        "    if len(arr) > 1:\n",
        "        mid = len(arr) // 2  # Find the midpoint\n",
        "        left_half = arr[:mid]  # Divide the array into two halves\n",
        "        right_half = arr[mid:]\n",
        "\n",
        "        merge_sort(left_half)  # Recursively sort the first half\n",
        "        merge_sort(right_half)  # Recursively sort the second half\n",
        "\n",
        "        i = j = k = 0\n",
        "\n",
        "        # Merge the two sorted halves\n",
        "        while i < len(left_half) and j < len(right_half):\n",
        "            if left_half[i] < right_half[j]:\n",
        "                arr[k] = left_half[i]\n",
        "                i += 1\n",
        "            else:\n",
        "                arr[k] = right_half[j]\n",
        "                j += 1\n",
        "            k += 1\n",
        "\n",
        "        # Check for any remaining elements\n",
        "        while i < len(left_half):\n",
        "            arr[k] = left_half[i]\n",
        "            i += 1\n",
        "            k += 1\n",
        "\n",
        "        while j < len(right_half):\n",
        "            arr[k] = right_half[j]\n",
        "            j += 1\n",
        "            k += 1\n",
        "    return arr"
      ],
      "metadata": {
        "id": "o2DciAhOC4FF"
      },
      "execution_count": 20,
      "outputs": []
    },
    {
      "cell_type": "markdown",
      "source": [
        "### Selection Sort"
      ],
      "metadata": {
        "id": "1-dZh46jC4w0"
      }
    },
    {
      "cell_type": "code",
      "source": [
        "def selection_sort(arr):\n",
        "    n = len(arr)\n",
        "    # Iterate through the array\n",
        "    for i in range(n):\n",
        "        # Find the minimum element in the unsorted part\n",
        "        min_index = i\n",
        "        for j in range(i + 1, n):\n",
        "            if arr[j] < arr[min_index]:\n",
        "                min_index = j\n",
        "        # Swap the found minimum element with the first element of the unsorted part\n",
        "        arr[i], arr[min_index] = arr[min_index], arr[i]\n",
        "    return arr"
      ],
      "metadata": {
        "id": "upNu7TWRC4w0"
      },
      "execution_count": 21,
      "outputs": []
    },
    {
      "cell_type": "markdown",
      "source": [
        "### Counting Sort"
      ],
      "metadata": {
        "id": "OT9itP0XC5vM"
      }
    },
    {
      "cell_type": "code",
      "source": [
        "def counting_sort(arr):\n",
        "    # Find the maximum element in the input array\n",
        "    max_element = max(arr)\n",
        "    min_element = min(arr)\n",
        "    range_of_elements = max_element - min_element + 1\n",
        "\n",
        "    # Create a count array to store count of individual elements\n",
        "    count_arr = [0] * range_of_elements\n",
        "    output_arr = [0] * len(arr)\n",
        "\n",
        "    # Store count of each element in the count array\n",
        "    for i in range(len(arr)):\n",
        "        count_arr[arr[i] - min_element] += 1\n",
        "\n",
        "    # Change count_arr[i] so that count_arr[i] now contains actual position of this element in output array\n",
        "    for i in range(1, len(count_arr)):\n",
        "        count_arr[i] += count_arr[i - 1]\n",
        "\n",
        "    # Build the output array\n",
        "    for i in range(len(arr) - 1, -1, -1):\n",
        "        output_arr[count_arr[arr[i] - min_element] - 1] = arr[i]\n",
        "        count_arr[arr[i] - min_element] -= 1\n",
        "\n",
        "    # Copy the output array to the original array, so that arr now contains sorted elements\n",
        "    for i in range(len(arr)):\n",
        "        arr[i] = output_arr[i]\n",
        "    return arr"
      ],
      "metadata": {
        "id": "MRK6IbpNC5vM"
      },
      "execution_count": 22,
      "outputs": []
    },
    {
      "cell_type": "code",
      "source": [],
      "metadata": {
        "id": "cpkshK7fEAX0"
      },
      "execution_count": null,
      "outputs": []
    }
  ]
}