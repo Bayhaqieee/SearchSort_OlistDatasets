{
  "nbformat": 4,
  "nbformat_minor": 0,
  "metadata": {
    "colab": {
      "provenance": [],
      "gpuType": "T4",
      "mount_file_id": "1xMMZMmGCXnj02bxnjRmMdDlMtfx02lsR",
      "authorship_tag": "ABX9TyOHOELIceDIywVMeaypDv++",
      "include_colab_link": true
    },
    "kernelspec": {
      "name": "python3",
      "display_name": "Python 3"
    },
    "language_info": {
      "name": "python"
    },
    "accelerator": "GPU"
  },
  "cells": [
    {
      "cell_type": "markdown",
      "metadata": {
        "id": "view-in-github",
        "colab_type": "text"
      },
      "source": [
        "<a href=\"https://colab.research.google.com/github/Bayhaqieee/SearchSort_OlistDatasets/blob/main/SearchSort_Olist_Team_2.ipynb\" target=\"_parent\"><img src=\"https://colab.research.google.com/assets/colab-badge.svg\" alt=\"Open In Colab\"/></a>"
      ]
    },
    {
      "cell_type": "markdown",
      "source": [
        "# sorting algortihms"
      ],
      "metadata": {
        "id": "39xBwOgnQYZf"
      }
    },
    {
      "cell_type": "code",
      "execution_count": null,
      "metadata": {
        "id": "6N-V_YCsOpVe"
      },
      "outputs": [],
      "source": [
        "def heap_sort(data, key):\n",
        "    import heapq\n",
        "    return [item for _, item in heapq.nsmallest(len(data), [(key(d), d) for d in data])]\n",
        "\n",
        "def merge_sort(data, key):\n",
        "    if len(data) <= 1:\n",
        "        return data\n",
        "    mid = len(data) // 2\n",
        "    left = merge_sort(data[:mid], key)\n",
        "    right = merge_sort(data[mid:], key)\n",
        "    return merge(left, right, key)\n",
        "\n",
        "def merge(left, right, key):\n",
        "    result = []\n",
        "    i = j = 0\n",
        "    while i < len(left) and j < len(right):\n",
        "        if key(left[i]) <= key(right[j]):\n",
        "            result.append(left[i])\n",
        "            i += 1\n",
        "        else:\n",
        "            result.append(right[j])\n",
        "            j += 1\n",
        "    result.extend(left[i:])\n",
        "    result.extend(right[j:])\n",
        "    return result\n",
        "\n",
        "def selection_sort(data, key):\n",
        "    n = len(data)\n",
        "    for i in range(n):\n",
        "        min_idx = i\n",
        "        for j in range(i + 1, n):\n",
        "            if key(data[j]) < key(data[min_idx]):\n",
        "                min_idx = j\n",
        "        data[i], data[min_idx] = data[min_idx], data[i]\n",
        "    return data\n",
        "\n",
        "def bubble_sort(data, key):\n",
        "    n = len(data)\n",
        "    for i in range(n):\n",
        "        for j in range(0, n - i - 1):\n",
        "            if key(data[j]) > key(data[j + 1]):\n",
        "                data[j], data[j + 1] = data[j + 1], data[j]\n",
        "    return data\n",
        "\n",
        "def counting_sort(data, key):\n",
        "    values = [key(d) for d in data]\n",
        "    unique_values = sorted(set(values))\n",
        "    value_to_index = {v: i for i, v in enumerate(unique_values)}\n",
        "\n",
        "    count = [0] * len(unique_values)\n",
        "    output = [None] * len(data)\n",
        "\n",
        "    for val in values:\n",
        "        count[value_to_index[val]] += 1\n",
        "\n",
        "    for i in range(1, len(count)):\n",
        "        count[i] += count[i - 1]\n",
        "\n",
        "    for d in reversed(data):\n",
        "        idx = value_to_index[key(d)]\n",
        "        count[idx] -= 1\n",
        "        output[count[idx]] = d\n",
        "\n",
        "    return output"
      ]
    },
    {
      "cell_type": "markdown",
      "source": [
        "# searching algorithms"
      ],
      "metadata": {
        "id": "OxGO6FtOQfBv"
      }
    },
    {
      "cell_type": "code",
      "source": [
        "def jump_search(data, target, key):\n",
        "    import math\n",
        "    n = len(data)\n",
        "    step = int(math.sqrt(n))\n",
        "    prev = 0\n",
        "\n",
        "    while key(data[min(step, n) - 1]) < target:\n",
        "        prev = step\n",
        "        step += int(math.sqrt(n))\n",
        "        if prev >= n:\n",
        "            return None\n",
        "\n",
        "    for i in range(prev, min(step, n)):\n",
        "        if key(data[i]) == target:\n",
        "            return data[i]\n",
        "    return None\n",
        "\n",
        "def hash_search(data, target, key):\n",
        "    hashmap = {key(item): item for item in data}\n",
        "    return hashmap.get(target, None)\n",
        "\n",
        "def binary_search(data, target, key):\n",
        "    low = 0\n",
        "    high = len(data) - 1\n",
        "    while low <= high:\n",
        "        mid = (low + high) // 2\n",
        "        mid_val = key(data[mid])\n",
        "        if mid_val == target:\n",
        "            return data[mid]\n",
        "        elif mid_val < target:\n",
        "            low = mid + 1\n",
        "        else:\n",
        "            high = mid - 1\n",
        "    return None"
      ],
      "metadata": {
        "id": "J5pHycrBQgIi"
      },
      "execution_count": null,
      "outputs": []
    },
    {
      "cell_type": "markdown",
      "source": [
        "# Testing Combination"
      ],
      "metadata": {
        "id": "vdKNJhqvQvXl"
      }
    },
    {
      "cell_type": "code",
      "source": [
        "def uji_kombinasi_algoritma_multi(file_path, kolom_kunci_list, kombinasi_algoritma):\n",
        "    import pandas as pd\n",
        "    import time\n",
        "\n",
        "    df = pd.read_csv(file_path)\n",
        "    records = df.to_dict(orient=\"records\")\n",
        "\n",
        "    for kolom in kolom_kunci_list:\n",
        "        print(f\"\\n=== Testing: {kolom} ===\")\n",
        "        for search_func, label_search, sort_func, label_sort in kombinasi_algoritma:\n",
        "            try:\n",
        "                start = time.time()\n",
        "                hasil_sort = sort_func(records.copy(), key=lambda x: x[kolom])\n",
        "                target = hasil_sort[-1][kolom]\n",
        "                _ = search_func(hasil_sort, target, key=lambda x: x[kolom])\n",
        "                end = time.time()\n",
        "                total_time = end - start\n",
        "                print(f\"{label_search} + {label_sort} => Time: {total_time:.8f} detik\")\n",
        "            except Exception as e:\n",
        "                print(f\"{label_search} + {label_sort} => ERROR in column '{kolom}': {e}\")"
      ],
      "metadata": {
        "id": "MaXE7gzGQq8p"
      },
      "execution_count": null,
      "outputs": []
    },
    {
      "cell_type": "markdown",
      "source": [
        "# running"
      ],
      "metadata": {
        "id": "VYD2rU0MRBzJ"
      }
    },
    {
      "cell_type": "code",
      "source": [
        "kombinasi_algoritma = [\n",
        "    (jump_search, \"Jump Search\", heap_sort, \"Heap Sort\"),\n",
        "    (jump_search, \"Jump Search\", merge_sort, \"Merge Sort\"),\n",
        "    (hash_search, \"Hash Search\", selection_sort, \"Selection Sort\"),\n",
        "    (jump_search, \"Jump Search\", bubble_sort, \"Bubble Sort\"),\n",
        "    (binary_search, \"Binary Search\", counting_sort, \"Counting Sort\"),\n",
        "]\n",
        "\n",
        "uji_kombinasi_algoritma_multi(\n",
        "    file_path=\"/content/drive/MyDrive/Analisis Algoritma/product_category_name_translation.csv\", # dataset path\n",
        "    kolom_kunci_list=[\"product_category_name\", \"product_category_name_english\"], #columns name\n",
        "    kombinasi_algoritma=kombinasi_algoritma\n",
        ")"
      ],
      "metadata": {
        "colab": {
          "base_uri": "https://localhost:8080/"
        },
        "id": "rWSbzsPWRACF",
        "outputId": "b99a16f7-e27a-4c29-bf32-6c935333e989"
      },
      "execution_count": null,
      "outputs": [
        {
          "output_type": "stream",
          "name": "stdout",
          "text": [
            "\n",
            "=== Uji Kolom: product_category_name ===\n",
            "Jump Search + Heap Sort => Waktu: 0.00011539 detik\n",
            "Jump Search + Merge Sort => Waktu: 0.00025940 detik\n",
            "Hash Search + Selection Sort => Waktu: 0.00087214 detik\n",
            "Jump Search + Bubble Sort => Waktu: 0.00099754 detik\n",
            "Binary Search + Counting Sort => Waktu: 0.00009584 detik\n",
            "\n",
            "=== Uji Kolom: product_category_name_english ===\n",
            "Jump Search + Heap Sort => Waktu: 0.00005817 detik\n",
            "Jump Search + Merge Sort => Waktu: 0.00025296 detik\n",
            "Hash Search + Selection Sort => Waktu: 0.00067163 detik\n",
            "Jump Search + Bubble Sort => Waktu: 0.00057888 detik\n",
            "Binary Search + Counting Sort => Waktu: 0.00005007 detik\n"
          ]
        }
      ]
    },
    {
      "cell_type": "code",
      "source": [],
      "metadata": {
        "id": "-Gxs3VscRyXS"
      },
      "execution_count": null,
      "outputs": []
    }
  ]
}